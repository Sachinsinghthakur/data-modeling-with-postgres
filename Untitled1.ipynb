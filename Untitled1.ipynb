{
 "cells": [
  {
   "cell_type": "code",
   "execution_count": 1,
   "id": "622b1068",
   "metadata": {},
   "outputs": [],
   "source": [
    "import glob\n",
    "import os\n",
    "import sys #for sys.getsizeof()\n",
    "from create_db import *\n",
    "from sql_queries import *\n",
    "import psycopg2\n",
    "import pandas as pd"
   ]
  },
  {
   "cell_type": "code",
   "execution_count": 2,
   "id": "59c643ec",
   "metadata": {},
   "outputs": [],
   "source": [
    "conn,cur= create_database(\"testdbb\")"
   ]
  },
  {
   "cell_type": "code",
   "execution_count": 3,
   "id": "3b96522e",
   "metadata": {},
   "outputs": [],
   "source": [
    "drop_tables(conn,cur)"
   ]
  },
  {
   "cell_type": "code",
   "execution_count": 4,
   "id": "976af6a0",
   "metadata": {},
   "outputs": [],
   "source": [
    "create_tables(conn,cur)"
   ]
  },
  {
   "cell_type": "code",
   "execution_count": 5,
   "id": "dfd90513",
   "metadata": {},
   "outputs": [],
   "source": [
    "conn.set_session(autocommit=True)"
   ]
  },
  {
   "cell_type": "code",
   "execution_count": null,
   "id": "2f68f3a5",
   "metadata": {},
   "outputs": [],
   "source": []
  },
  {
   "cell_type": "code",
   "execution_count": 6,
   "id": "a80540bc",
   "metadata": {},
   "outputs": [],
   "source": [
    "def get_json_files_path(path):\n",
    "    all_files_path = []\n",
    "    for root,folder,files in os.walk(path):\n",
    "        files=glob.glob(os.path.join(root,\"*json\"))\n",
    "        for f in files:\n",
    "            all_files_path.append(os.path.abspath(f))\n",
    "    return all_files_path"
   ]
  },
  {
   "cell_type": "code",
   "execution_count": 7,
   "id": "9408f6c7",
   "metadata": {},
   "outputs": [],
   "source": [
    "log_files_path=get_json_files_path(os.path.abspath(\"data/log_data/\"))\n",
    "    \n",
    "log_df=pd.concat(pd.read_json(f,lines=True) for f in log_files_path)\n",
    "    \n",
    "log_df.reset_index(drop=True,inplace=True)\n",
    "    \n",
    "user_data = log_df[[\"userId\",\"firstName\",\"lastName\",\"gender\",\"level\"]].values.tolist()\n",
    "    \n",
    "cur.executemany(insert_into_users,user_data)\n",
    "    "
   ]
  }
 ],
 "metadata": {
  "kernelspec": {
   "display_name": "Python 3 (ipykernel)",
   "language": "python",
   "name": "python3"
  },
  "language_info": {
   "codemirror_mode": {
    "name": "ipython",
    "version": 3
   },
   "file_extension": ".py",
   "mimetype": "text/x-python",
   "name": "python",
   "nbconvert_exporter": "python",
   "pygments_lexer": "ipython3",
   "version": "3.9.13"
  }
 },
 "nbformat": 4,
 "nbformat_minor": 5
}
